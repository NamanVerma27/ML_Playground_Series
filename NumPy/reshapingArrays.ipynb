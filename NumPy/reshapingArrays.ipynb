{
 "cells": [
  {
   "cell_type": "code",
   "execution_count": 1,
   "id": "16ef4722-30bd-48bd-9204-91c78ee2e549",
   "metadata": {},
   "outputs": [],
   "source": [
    "import numpy as np"
   ]
  },
  {
   "cell_type": "markdown",
   "id": "f1045d4e-2ce4-4467-b0b4-2a935f093730",
   "metadata": {},
   "source": [
    "<h1 style=color:red>Array Reshaping</h1>"
   ]
  },
  {
   "cell_type": "markdown",
   "id": "f0d39578-8bf8-441d-92ab-14c9c476e3cf",
   "metadata": {},
   "source": [
    "<h2>It collapses an array into a one-dimensional array</h2>"
   ]
  },
  {
   "cell_type": "code",
   "execution_count": 3,
   "id": "1217c30a-392f-4637-b6cf-d884840755ae",
   "metadata": {},
   "outputs": [],
   "source": [
    "arr1=np.arange(6,12).reshape(3,2)"
   ]
  },
  {
   "cell_type": "code",
   "execution_count": 5,
   "id": "780594ce-f8a7-4fef-b8d0-93d0878cd83c",
   "metadata": {},
   "outputs": [
    {
     "data": {
      "text/plain": [
       "array([[ 6,  7],\n",
       "       [ 8,  9],\n",
       "       [10, 11]])"
      ]
     },
     "execution_count": 5,
     "metadata": {},
     "output_type": "execute_result"
    }
   ],
   "source": [
    "arr1"
   ]
  },
  {
   "cell_type": "code",
   "execution_count": 7,
   "id": "de0d2296-67b2-4b0d-ae66-89035e4c13f6",
   "metadata": {},
   "outputs": [
    {
     "data": {
      "text/plain": [
       "array([ 6,  7,  8,  9, 10, 11])"
      ]
     },
     "execution_count": 7,
     "metadata": {},
     "output_type": "execute_result"
    }
   ],
   "source": [
    "arr1.ravel() #convered into 1D array from 2D array"
   ]
  },
  {
   "cell_type": "markdown",
   "id": "9e747047-e1c8-42e5-9528-50432a96ab20",
   "metadata": {},
   "source": [
    "<h2>Function that gives a new shape to an array without changing its data</h2>"
   ]
  },
  {
   "cell_type": "code",
   "execution_count": 8,
   "id": "f85c1b12-ef50-40e2-a89f-5963fd347e20",
   "metadata": {},
   "outputs": [
    {
     "data": {
      "text/plain": [
       "array([[ 6,  7,  8],\n",
       "       [ 9, 10, 11]])"
      ]
     },
     "execution_count": 8,
     "metadata": {},
     "output_type": "execute_result"
    }
   ],
   "source": [
    "arr1.reshape(2,3)"
   ]
  },
  {
   "cell_type": "markdown",
   "id": "7f92129e-f66c-49bd-b049-34308b122ec7",
   "metadata": {},
   "source": [
    "<h2>For a 2D array, it swaps the rows and columns</h2>"
   ]
  },
  {
   "cell_type": "code",
   "execution_count": 9,
   "id": "168111ec-9617-40af-8c32-d43859a337c9",
   "metadata": {},
   "outputs": [
    {
     "data": {
      "text/plain": [
       "array([[ 6,  7],\n",
       "       [ 8,  9],\n",
       "       [10, 11]])"
      ]
     },
     "execution_count": 9,
     "metadata": {},
     "output_type": "execute_result"
    }
   ],
   "source": [
    "arr1 #printing arr1"
   ]
  },
  {
   "cell_type": "code",
   "execution_count": 10,
   "id": "91719e9d-a8c1-4413-9ecf-c04cf5a1f352",
   "metadata": {},
   "outputs": [
    {
     "data": {
      "text/plain": [
       "array([[ 6,  8, 10],\n",
       "       [ 7,  9, 11]])"
      ]
     },
     "execution_count": 10,
     "metadata": {},
     "output_type": "execute_result"
    }
   ],
   "source": [
    "arr1.transpose()"
   ]
  },
  {
   "cell_type": "markdown",
   "id": "e176e7d6-c089-468a-8120-6a0dec66574e",
   "metadata": {},
   "source": [
    "<h2>Used for combining multiple arrays along a specified axis</h2>"
   ]
  },
  {
   "cell_type": "code",
   "execution_count": 12,
   "id": "97944ebe-86d8-4966-8c60-1276b9cb9da8",
   "metadata": {},
   "outputs": [],
   "source": [
    "arr2=np.arange(0,6).reshape(2,3) # Create and reshape arr2\n",
    "arr3=np.arange(12,18).reshape(2,3) # Create and reshape arr3"
   ]
  },
  {
   "cell_type": "code",
   "execution_count": 13,
   "id": "4babc6b3-762d-465f-93b4-3db0b8f6aa96",
   "metadata": {},
   "outputs": [
    {
     "data": {
      "text/plain": [
       "array([[0, 1, 2],\n",
       "       [3, 4, 5]])"
      ]
     },
     "execution_count": 13,
     "metadata": {},
     "output_type": "execute_result"
    }
   ],
   "source": [
    "arr2 #printing arr2"
   ]
  },
  {
   "cell_type": "code",
   "execution_count": 14,
   "id": "0f202d16-b1ae-4c0d-b721-351729d77f08",
   "metadata": {},
   "outputs": [
    {
     "data": {
      "text/plain": [
       "array([[12, 13, 14],\n",
       "       [15, 16, 17]])"
      ]
     },
     "execution_count": 14,
     "metadata": {},
     "output_type": "execute_result"
    }
   ],
   "source": [
    "arr3 #printing arr3"
   ]
  },
  {
   "cell_type": "code",
   "execution_count": 22,
   "id": "84ee5ca9-a53a-4a09-9767-3a931ae1ad76",
   "metadata": {},
   "outputs": [
    {
     "data": {
      "text/plain": [
       "array([[ 0,  1,  2, 12, 13, 14],\n",
       "       [ 3,  4,  5, 15, 16, 17]])"
      ]
     },
     "execution_count": 22,
     "metadata": {},
     "output_type": "execute_result"
    }
   ],
   "source": [
    "# Horizontally stack arr2 and arr3\n",
    "# This combines the arrays along their columns\n",
    "np.hstack((arr2,arr3))"
   ]
  },
  {
   "cell_type": "code",
   "execution_count": 17,
   "id": "5df68baa-4930-444d-8de9-30199be3fc9c",
   "metadata": {},
   "outputs": [
    {
     "data": {
      "text/plain": [
       "array([[ 0,  1,  2],\n",
       "       [ 3,  4,  5],\n",
       "       [12, 13, 14],\n",
       "       [15, 16, 17]])"
      ]
     },
     "execution_count": 17,
     "metadata": {},
     "output_type": "execute_result"
    }
   ],
   "source": [
    "# Vertically stack arr2 and arr3\n",
    "# This combines the arrays along their rows\n",
    "np.vstack((arr2,arr3))"
   ]
  },
  {
   "cell_type": "markdown",
   "id": "ac163d30-3ecd-4e29-a33a-be0250b0e6eb",
   "metadata": {},
   "source": [
    "<h2>Used for splitting one array to multiple arrays along a specified axis</h2>"
   ]
  },
  {
   "cell_type": "code",
   "execution_count": 19,
   "id": "4dfd4486-0f11-4a6a-8bcb-81482b80db6c",
   "metadata": {},
   "outputs": [
    {
     "data": {
      "text/plain": [
       "array([[0, 1, 2],\n",
       "       [3, 4, 5]])"
      ]
     },
     "execution_count": 19,
     "metadata": {},
     "output_type": "execute_result"
    }
   ],
   "source": [
    "arr2 #printing arr2"
   ]
  },
  {
   "cell_type": "code",
   "execution_count": 18,
   "id": "cb967c4d-2093-4199-bf63-424469c20473",
   "metadata": {},
   "outputs": [
    {
     "data": {
      "text/plain": [
       "[array([[0],\n",
       "        [3]]),\n",
       " array([[1],\n",
       "        [4]]),\n",
       " array([[2],\n",
       "        [5]])]"
      ]
     },
     "execution_count": 18,
     "metadata": {},
     "output_type": "execute_result"
    }
   ],
   "source": [
    "# Horizontally split arr2 into 3 equal parts\n",
    "# This divides the array into 3 sub-arrays along the columns\n",
    "np.hsplit(arr2,3)"
   ]
  },
  {
   "cell_type": "code",
   "execution_count": 23,
   "id": "8012ba62-9011-4eaa-84cb-161e9d8c4aa7",
   "metadata": {},
   "outputs": [
    {
     "data": {
      "text/plain": [
       "[array([[0, 1, 2]]), array([[3, 4, 5]])]"
      ]
     },
     "execution_count": 23,
     "metadata": {},
     "output_type": "execute_result"
    }
   ],
   "source": [
    "# Vertically split arr2 into 2 equal parts\n",
    "# This divides the array into 2 sub-arrays along the rows\n",
    "np.vsplit(arr2,2)"
   ]
  }
 ],
 "metadata": {
  "kernelspec": {
   "display_name": "Python 3 (ipykernel)",
   "language": "python",
   "name": "python3"
  },
  "language_info": {
   "codemirror_mode": {
    "name": "ipython",
    "version": 3
   },
   "file_extension": ".py",
   "mimetype": "text/x-python",
   "name": "python",
   "nbconvert_exporter": "python",
   "pygments_lexer": "ipython3",
   "version": "3.12.4"
  }
 },
 "nbformat": 4,
 "nbformat_minor": 5
}
