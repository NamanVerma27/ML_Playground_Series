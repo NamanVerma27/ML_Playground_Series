{
 "cells": [
  {
   "cell_type": "code",
   "execution_count": 1,
   "id": "896a9df7-c49a-487e-8a70-531937020b17",
   "metadata": {},
   "outputs": [],
   "source": [
    "import numpy as np"
   ]
  },
  {
   "cell_type": "markdown",
   "id": "75dbf8ce-50ad-4f4a-bf1b-1e516da5151c",
   "metadata": {},
   "source": [
    "<h3>Generate a random float number between 0 and 1</h3>"
   ]
  },
  {
   "cell_type": "code",
   "execution_count": 2,
   "id": "cb4d927c-b8b9-4184-88a1-1e213570db84",
   "metadata": {},
   "outputs": [
    {
     "data": {
      "text/plain": [
       "0.35052201118797677"
      ]
     },
     "execution_count": 2,
     "metadata": {},
     "output_type": "execute_result"
    }
   ],
   "source": [
    "np.random.random()"
   ]
  },
  {
   "cell_type": "markdown",
   "id": "f83ddccf-f626-4736-b8c7-78c2de1fe279",
   "metadata": {},
   "source": [
    "<h3>Set the random number generator to always produce the same numbers</h3>"
   ]
  },
  {
   "cell_type": "code",
   "execution_count": 5,
   "id": "7db3e119-b994-4e8c-8591-fcb48c64e0ef",
   "metadata": {},
   "outputs": [
    {
     "data": {
      "text/plain": [
       "0.417022004702574"
      ]
     },
     "execution_count": 5,
     "metadata": {},
     "output_type": "execute_result"
    }
   ],
   "source": [
    "np.random.seed(1)\n",
    "np.random.random()"
   ]
  },
  {
   "cell_type": "markdown",
   "id": "c83121f8-e45a-421d-aaa9-fff9658d4496",
   "metadata": {},
   "source": [
    "<h3>Generate a random float number between 3 and 10</h3>"
   ]
  },
  {
   "cell_type": "code",
   "execution_count": 6,
   "id": "a076bb4b-31a6-4833-92b9-c2e4c8ca7b8a",
   "metadata": {},
   "outputs": [
    {
     "data": {
      "text/plain": [
       "8.042271454095108"
      ]
     },
     "execution_count": 6,
     "metadata": {},
     "output_type": "execute_result"
    }
   ],
   "source": [
    "np.random.uniform(3,10)"
   ]
  },
  {
   "cell_type": "code",
   "execution_count": 9,
   "id": "30785c14-6e21-4420-a086-6cd8cf5b9369",
   "metadata": {},
   "outputs": [
    {
     "data": {
      "text/plain": [
       "array([[21.24077272, 87.9336262 ,  3.71137173, 67.37628351, 42.31317543],\n",
       "       [56.31029302, 14.89830692, 20.61204742, 80.2737123 , 96.857896  ]])"
      ]
     },
     "execution_count": 9,
     "metadata": {},
     "output_type": "execute_result"
    }
   ],
   "source": [
    "np.random.uniform(1,100,10).reshape(2,5)"
   ]
  },
  {
   "cell_type": "markdown",
   "id": "c7f5deeb-fa84-4e17-9f93-eb24a59d135c",
   "metadata": {},
   "source": [
    "random integers"
   ]
  },
  {
   "cell_type": "markdown",
   "id": "e6e5356e-5f83-43b6-b701-6ab545a668d3",
   "metadata": {},
   "source": [
    "<h3>Generate an array of 15 random integers between 1 and 9</h3>"
   ]
  },
  {
   "cell_type": "code",
   "execution_count": 12,
   "id": "94951650-d69b-4530-bc2b-79a46f3cdf1f",
   "metadata": {},
   "outputs": [
    {
     "data": {
      "text/plain": [
       "array([[7, 6, 2, 4, 5],\n",
       "       [9, 2, 5, 1, 4],\n",
       "       [3, 1, 5, 3, 8]])"
      ]
     },
     "execution_count": 12,
     "metadata": {},
     "output_type": "execute_result"
    }
   ],
   "source": [
    "np.random.randint(1,10,15).reshape(3,5)"
   ]
  },
  {
   "cell_type": "markdown",
   "id": "67c80f6f-9e8c-44bd-bfe7-eb630c6922be",
   "metadata": {},
   "source": [
    "index of max/min"
   ]
  },
  {
   "cell_type": "code",
   "execution_count": 14,
   "id": "bf6f1e9c-d99d-40f9-868b-cf2c41723660",
   "metadata": {},
   "outputs": [
    {
     "data": {
      "text/plain": [
       "array([5, 6, 4, 7, 9, 1])"
      ]
     },
     "execution_count": 14,
     "metadata": {},
     "output_type": "execute_result"
    }
   ],
   "source": [
    "a=np.random.randint(1,10,6)\n",
    "a"
   ]
  },
  {
   "cell_type": "markdown",
   "id": "06097d06-fd36-49cc-814a-c65619f1a275",
   "metadata": {},
   "source": [
    "<h3>Find the index of the maximum value in the array 'a'</h3>"
   ]
  },
  {
   "cell_type": "code",
   "execution_count": 16,
   "id": "9b980bd3-c0b6-44fb-aea7-7cd56b4546f4",
   "metadata": {},
   "outputs": [
    {
     "data": {
      "text/plain": [
       "4"
      ]
     },
     "execution_count": 16,
     "metadata": {},
     "output_type": "execute_result"
    }
   ],
   "source": [
    "np.argmax(a)"
   ]
  },
  {
   "cell_type": "markdown",
   "id": "eb30a83f-27ae-488a-b1aa-93c267074829",
   "metadata": {},
   "source": [
    "<h3>Find the index of the minimum value in the array 'a'</h3>"
   ]
  },
  {
   "cell_type": "code",
   "execution_count": 17,
   "id": "e5ea8179-6dfa-413d-9586-9d4b4718e3c4",
   "metadata": {},
   "outputs": [
    {
     "data": {
      "text/plain": [
       "5"
      ]
     },
     "execution_count": 17,
     "metadata": {},
     "output_type": "execute_result"
    }
   ],
   "source": [
    "np.argmin(a)"
   ]
  },
  {
   "cell_type": "markdown",
   "id": "87ab2946-7aa3-4037-a514-6ef26543cc14",
   "metadata": {},
   "source": [
    "<h3>Replace all odd numbers in the array 'a' with -1 in original array</h3>"
   ]
  },
  {
   "cell_type": "code",
   "execution_count": 35,
   "id": "8b7eb0fb-7a09-437c-a64b-1816eddf97c9",
   "metadata": {},
   "outputs": [
    {
     "data": {
      "text/plain": [
       "array([9, 8, 1, 4, 5, 3])"
      ]
     },
     "execution_count": 35,
     "metadata": {},
     "output_type": "execute_result"
    }
   ],
   "source": [
    "a=np.random.randint(1,10,6)\n",
    "a"
   ]
  },
  {
   "cell_type": "code",
   "execution_count": 36,
   "id": "f14cec11-0ec7-49d9-9a65-2e4a39b84b1e",
   "metadata": {},
   "outputs": [
    {
     "data": {
      "text/plain": [
       "array([-1,  8, -1,  4, -1, -1])"
      ]
     },
     "execution_count": 36,
     "metadata": {},
     "output_type": "execute_result"
    }
   ],
   "source": [
    "a[a%2==1]=-1\n",
    "a"
   ]
  },
  {
   "cell_type": "markdown",
   "id": "2c84720f-ff9f-4990-ac03-1de23f43b077",
   "metadata": {},
   "source": [
    "<h3>Replace all odd numbers in the array 'a' with -1 but not in original array</h3>"
   ]
  },
  {
   "cell_type": "code",
   "execution_count": 37,
   "id": "49b93b54-9358-4435-a400-c3ea6a735418",
   "metadata": {},
   "outputs": [
    {
     "data": {
      "text/plain": [
       "array([15, 47,  1, 30, 12, 36])"
      ]
     },
     "execution_count": 37,
     "metadata": {},
     "output_type": "execute_result"
    }
   ],
   "source": [
    "a=np.random.randint(1,50,6)\n",
    "a"
   ]
  },
  {
   "cell_type": "code",
   "execution_count": 38,
   "id": "e903e3f2-55f7-4275-b370-a0195cb6c7af",
   "metadata": {},
   "outputs": [
    {
     "data": {
      "text/plain": [
       "array([-1, -1, -1, 30, 12, 36])"
      ]
     },
     "execution_count": 38,
     "metadata": {},
     "output_type": "execute_result"
    }
   ],
   "source": [
    "np.where(a%2==1,-1,a) #numpy.where(condition, [x if true, y if false])"
   ]
  },
  {
   "cell_type": "code",
   "execution_count": 39,
   "id": "e50f5d39-a348-4960-b0f4-7cbeb38eedd5",
   "metadata": {},
   "outputs": [
    {
     "data": {
      "text/plain": [
       "array([15, 47,  1, 30, 12, 36])"
      ]
     },
     "execution_count": 39,
     "metadata": {},
     "output_type": "execute_result"
    }
   ],
   "source": [
    "a"
   ]
  },
  {
   "cell_type": "code",
   "execution_count": 41,
   "id": "132d3ee8-d1e8-4b95-bdd9-508d21dd9d94",
   "metadata": {},
   "outputs": [
    {
     "data": {
      "text/plain": [
       "array([-1, -1, -1, 30, 12, 36])"
      ]
     },
     "execution_count": 41,
     "metadata": {},
     "output_type": "execute_result"
    }
   ],
   "source": [
    "out=np.where(a%2==1,-1,a)\n",
    "out"
   ]
  },
  {
   "cell_type": "markdown",
   "id": "f427cd99-54b5-49ba-9714-9e0023c192b0",
   "metadata": {},
   "source": [
    "<h3>Calculate the nth percentile of the array 'a'</h3>"
   ]
  },
  {
   "cell_type": "code",
   "execution_count": 42,
   "id": "060ef4af-598a-451f-ac19-70a1fdc77bf7",
   "metadata": {},
   "outputs": [
    {
     "data": {
      "text/plain": [
       "array([30, 34,  3, 21, 20, 49, 33, 29, 19, 32])"
      ]
     },
     "execution_count": 42,
     "metadata": {},
     "output_type": "execute_result"
    }
   ],
   "source": [
    "a=np.random.randint(1,50,10)\n",
    "a"
   ]
  },
  {
   "cell_type": "code",
   "execution_count": 44,
   "id": "783b70c7-d7c5-4c12-8a6d-88d6dc897785",
   "metadata": {},
   "outputs": [
    {
     "data": {
      "text/plain": [
       "array([ 3, 19, 20, 21, 29, 30, 32, 33, 34, 49])"
      ]
     },
     "execution_count": 44,
     "metadata": {},
     "output_type": "execute_result"
    }
   ],
   "source": [
    "a=np.sort(a)\n",
    "a"
   ]
  },
  {
   "cell_type": "code",
   "execution_count": 45,
   "id": "7c657577-5000-4cfd-8363-16768ef23f9c",
   "metadata": {},
   "outputs": [
    {
     "data": {
      "text/plain": [
       "20.25"
      ]
     },
     "execution_count": 45,
     "metadata": {},
     "output_type": "execute_result"
    }
   ],
   "source": [
    "np.percentile(a,25) #numpy.percentile(a, percentile)"
   ]
  },
  {
   "cell_type": "code",
   "execution_count": 46,
   "id": "4013ff31-864d-4fc5-b6bd-37988204e4ba",
   "metadata": {},
   "outputs": [
    {
     "data": {
      "text/plain": [
       "29.5"
      ]
     },
     "execution_count": 46,
     "metadata": {},
     "output_type": "execute_result"
    }
   ],
   "source": [
    "np.percentile(a,50)"
   ]
  }
 ],
 "metadata": {
  "kernelspec": {
   "display_name": "Python 3 (ipykernel)",
   "language": "python",
   "name": "python3"
  },
  "language_info": {
   "codemirror_mode": {
    "name": "ipython",
    "version": 3
   },
   "file_extension": ".py",
   "mimetype": "text/x-python",
   "name": "python",
   "nbconvert_exporter": "python",
   "pygments_lexer": "ipython3",
   "version": "3.12.4"
  }
 },
 "nbformat": 4,
 "nbformat_minor": 5
}
