{
 "cells": [
  {
   "cell_type": "markdown",
   "id": "20c7c097-807a-4163-bb74-8d2060fc2ed3",
   "metadata": {},
   "source": [
    "<h1 style=\"color:red\">Creating numpy or n-d arrays</h1>\n"
   ]
  },
  {
   "cell_type": "code",
   "execution_count": 2,
   "id": "7477df50-540f-4f68-9dab-c202f4a06851",
   "metadata": {},
   "outputs": [],
   "source": [
    "import numpy as np"
   ]
  },
  {
   "cell_type": "code",
   "execution_count": 4,
   "id": "754f4869-6769-4452-9690-f8eb00cf614a",
   "metadata": {},
   "outputs": [
    {
     "data": {
      "text/plain": [
       "array([1, 2, 3, 4, 5])"
      ]
     },
     "execution_count": 4,
     "metadata": {},
     "output_type": "execute_result"
    }
   ],
   "source": [
    "arr1=np.array([1,2,3,4,5])\n",
    "arr1"
   ]
  },
  {
   "cell_type": "code",
   "execution_count": 5,
   "id": "f88a7326-2042-41d6-8243-97eecc4edd5c",
   "metadata": {},
   "outputs": [
    {
     "data": {
      "text/plain": [
       "numpy.ndarray"
      ]
     },
     "execution_count": 5,
     "metadata": {},
     "output_type": "execute_result"
    }
   ],
   "source": [
    "type(arr1)"
   ]
  },
  {
   "cell_type": "code",
   "execution_count": 7,
   "id": "99d586b1-7247-4c25-9b08-084e38ec4d2d",
   "metadata": {},
   "outputs": [
    {
     "data": {
      "text/plain": [
       "array([[1, 2, 3],\n",
       "       [4, 5, 6]])"
      ]
     },
     "execution_count": 7,
     "metadata": {},
     "output_type": "execute_result"
    }
   ],
   "source": [
    "arr2=np.array([[1,2,3],[4,5,6]])\n",
    "arr2"
   ]
  },
  {
   "cell_type": "markdown",
   "id": "3d6cc2e9-c165-4519-bf0b-e4bbc09e8b9f",
   "metadata": {},
   "source": [
    "<h1>Initializing ndarray with 0</h1>"
   ]
  },
  {
   "cell_type": "code",
   "execution_count": 9,
   "id": "d1f7dd00-1441-4e35-8168-09a60bf7e927",
   "metadata": {},
   "outputs": [
    {
     "data": {
      "text/plain": [
       "array([[0., 0., 0.],\n",
       "       [0., 0., 0.]])"
      ]
     },
     "execution_count": 9,
     "metadata": {},
     "output_type": "execute_result"
    }
   ],
   "source": [
    "arr3=np.zeros((2,3))\n",
    "arr3"
   ]
  },
  {
   "cell_type": "markdown",
   "id": "7ad5edd7-9d22-41af-a752-eb989849796a",
   "metadata": {},
   "source": [
    "<h1>Initializing ndarray with 1</h1>"
   ]
  },
  {
   "cell_type": "code",
   "execution_count": 19,
   "id": "a8b1a198-e3ee-45a6-96ba-004db781d29d",
   "metadata": {},
   "outputs": [
    {
     "data": {
      "text/plain": [
       "array([[1., 1., 1.],\n",
       "       [1., 1., 1.],\n",
       "       [1., 1., 1.]])"
      ]
     },
     "execution_count": 19,
     "metadata": {},
     "output_type": "execute_result"
    }
   ],
   "source": [
    "arr4=np.ones((3,3))\n",
    "arr4"
   ]
  },
  {
   "cell_type": "markdown",
   "id": "8d141d96-fc63-4ef9-ab98-42718182eeac",
   "metadata": {},
   "source": [
    "<h1>Initializing ndarray as identity matrix</h1>"
   ]
  },
  {
   "cell_type": "code",
   "execution_count": 20,
   "id": "05783391-a779-42cc-bcd7-aff7be0acb04",
   "metadata": {},
   "outputs": [
    {
     "data": {
      "text/plain": [
       "array([[1., 0., 0., 0., 0.],\n",
       "       [0., 1., 0., 0., 0.],\n",
       "       [0., 0., 1., 0., 0.],\n",
       "       [0., 0., 0., 1., 0.],\n",
       "       [0., 0., 0., 0., 1.]])"
      ]
     },
     "execution_count": 20,
     "metadata": {},
     "output_type": "execute_result"
    }
   ],
   "source": [
    "arr5=np.identity(5)\n",
    "arr5"
   ]
  },
  {
   "cell_type": "markdown",
   "id": "3c213e10-0978-47ea-b8e1-8ca19904e3b2",
   "metadata": {},
   "source": [
    "<h1>Give ndarray some range of numbers</h1>"
   ]
  },
  {
   "cell_type": "code",
   "execution_count": 21,
   "id": "701de149-b5e5-4bd3-a0b8-35fc83062370",
   "metadata": {},
   "outputs": [
    {
     "data": {
      "text/plain": [
       "array([0, 1, 2, 3, 4, 5, 6, 7, 8, 9])"
      ]
     },
     "execution_count": 21,
     "metadata": {},
     "output_type": "execute_result"
    }
   ],
   "source": [
    "arr6=np.arange(10)\n",
    "arr6"
   ]
  },
  {
   "cell_type": "code",
   "execution_count": 25,
   "id": "f531fadc-8324-4763-afe4-da1b690fab33",
   "metadata": {},
   "outputs": [
    {
     "data": {
      "text/plain": [
       "array([ 5,  6,  7,  8,  9, 10, 11, 12, 13, 14, 15])"
      ]
     },
     "execution_count": 25,
     "metadata": {},
     "output_type": "execute_result"
    }
   ],
   "source": [
    "arr7=np.arange(5,16)\n",
    "arr7"
   ]
  },
  {
   "cell_type": "markdown",
   "id": "87852400-2324-466b-b87b-a2d4b014b5c9",
   "metadata": {},
   "source": [
    "<h1>To create an array of evenly spaced numbers over a specified range</h1>"
   ]
  },
  {
   "cell_type": "code",
   "execution_count": 26,
   "id": "fb36ea92-b7fb-4423-abb2-9389be7baabb",
   "metadata": {},
   "outputs": [
    {
     "data": {
      "text/plain": [
       "array([10.        , 11.11111111, 12.22222222, 13.33333333, 14.44444444,\n",
       "       15.55555556, 16.66666667, 17.77777778, 18.88888889, 20.        ])"
      ]
     },
     "execution_count": 26,
     "metadata": {},
     "output_type": "execute_result"
    }
   ],
   "source": [
    "arr8=np.linspace(10,20,10)\n",
    "arr8"
   ]
  },
  {
   "cell_type": "markdown",
   "id": "30fee893-734d-4b34-a9b1-efb3834575f4",
   "metadata": {},
   "source": [
    "<h1>To create a copy of any other array to a specific array</h1>"
   ]
  },
  {
   "cell_type": "code",
   "execution_count": 27,
   "id": "c85ae02b-2c8c-4fd1-a5d6-0e72fa0689cb",
   "metadata": {},
   "outputs": [
    {
     "data": {
      "text/plain": [
       "array([10.        , 11.11111111, 12.22222222, 13.33333333, 14.44444444,\n",
       "       15.55555556, 16.66666667, 17.77777778, 18.88888889, 20.        ])"
      ]
     },
     "execution_count": 27,
     "metadata": {},
     "output_type": "execute_result"
    }
   ],
   "source": [
    "arr9=arr8.copy()\n",
    "arr9"
   ]
  },
  {
   "cell_type": "markdown",
   "id": "32e9d172-5b72-44d2-bb78-96d49895b8c3",
   "metadata": {},
   "source": [
    "<h1 style=\"color:red\">Numpy properties and attributes</h1>"
   ]
  },
  {
   "cell_type": "markdown",
   "id": "57a79265-eab7-4cc0-a183-00dee8931a2b",
   "metadata": {},
   "source": [
    "<h1>Shape defines all dimesnsions of ndarray</h1>"
   ]
  },
  {
   "cell_type": "markdown",
   "id": "cffdfc1a-25f8-4ddb-b7ed-a96503951dcb",
   "metadata": {},
   "source": [
    "arr1 #display arr1"
   ]
  },
  {
   "cell_type": "code",
   "execution_count": 29,
   "id": "877e1973-26bc-4ef8-9f9a-6b00830918a8",
   "metadata": {},
   "outputs": [
    {
     "data": {
      "text/plain": [
       "(5,)"
      ]
     },
     "execution_count": 29,
     "metadata": {},
     "output_type": "execute_result"
    }
   ],
   "source": [
    "arr1.shape"
   ]
  },
  {
   "cell_type": "code",
   "execution_count": 30,
   "id": "45d1f59d-1324-4f0b-9429-6a5c02702bf4",
   "metadata": {},
   "outputs": [
    {
     "data": {
      "text/plain": [
       "array([[1, 2, 3],\n",
       "       [4, 5, 6]])"
      ]
     },
     "execution_count": 30,
     "metadata": {},
     "output_type": "execute_result"
    }
   ],
   "source": [
    "arr2 #display arr2"
   ]
  },
  {
   "cell_type": "code",
   "execution_count": 31,
   "id": "cae1ea2d-a4e7-420f-bf91-c27a2e9afce7",
   "metadata": {},
   "outputs": [
    {
     "data": {
      "text/plain": [
       "(2, 3)"
      ]
     },
     "execution_count": 31,
     "metadata": {},
     "output_type": "execute_result"
    }
   ],
   "source": [
    "arr2.shape"
   ]
  },
  {
   "cell_type": "markdown",
   "id": "5b1e1b8b-2491-47d5-97c7-7896e4285666",
   "metadata": {},
   "source": [
    "<h1>ndim defines the dimension of the array</h1>"
   ]
  },
  {
   "cell_type": "code",
   "execution_count": 34,
   "id": "b9e1a725-e4cb-4db2-be1b-b7adbac6b9c2",
   "metadata": {},
   "outputs": [
    {
     "data": {
      "text/plain": [
       "array([[1, 2, 3],\n",
       "       [4, 5, 6]])"
      ]
     },
     "execution_count": 34,
     "metadata": {},
     "output_type": "execute_result"
    }
   ],
   "source": [
    "arr2 #display arr2"
   ]
  },
  {
   "cell_type": "code",
   "execution_count": 32,
   "id": "aa676fc1-6556-4641-9602-e2ad15844853",
   "metadata": {},
   "outputs": [
    {
     "data": {
      "text/plain": [
       "2"
      ]
     },
     "execution_count": 32,
     "metadata": {},
     "output_type": "execute_result"
    }
   ],
   "source": [
    "arr2.ndim"
   ]
  },
  {
   "cell_type": "markdown",
   "id": "bcc8be0b-490f-4ffc-b657-de107fdcb840",
   "metadata": {},
   "source": [
    "<h1>size defined the size of array(eg: arr[2][3]= 2*3)</h1>"
   ]
  },
  {
   "cell_type": "code",
   "execution_count": 35,
   "id": "4d04afe7-26e4-4543-b782-6dabab32379a",
   "metadata": {},
   "outputs": [
    {
     "data": {
      "text/plain": [
       "array([[1, 2, 3],\n",
       "       [4, 5, 6]])"
      ]
     },
     "execution_count": 35,
     "metadata": {},
     "output_type": "execute_result"
    }
   ],
   "source": [
    "arr2 #display arr2"
   ]
  },
  {
   "cell_type": "code",
   "execution_count": 33,
   "id": "b3dd5b7d-cc80-4352-93c7-d9705671e2f3",
   "metadata": {},
   "outputs": [
    {
     "data": {
      "text/plain": [
       "6"
      ]
     },
     "execution_count": 33,
     "metadata": {},
     "output_type": "execute_result"
    }
   ],
   "source": [
    "arr2.size"
   ]
  },
  {
   "cell_type": "markdown",
   "id": "1c19a856-e9d2-4451-9283-c9057aba85a3",
   "metadata": {},
   "source": [
    "<h1>It indicates the memory size (in bytes) of each array element.</h1>"
   ]
  },
  {
   "cell_type": "code",
   "execution_count": 37,
   "id": "665585aa-90a6-4756-9d00-4d7b1080ae10",
   "metadata": {},
   "outputs": [
    {
     "data": {
      "text/plain": [
       "array([[1, 2, 3],\n",
       "       [4, 5, 6]])"
      ]
     },
     "execution_count": 37,
     "metadata": {},
     "output_type": "execute_result"
    }
   ],
   "source": [
    "arr2 #display arr2"
   ]
  },
  {
   "cell_type": "code",
   "execution_count": 38,
   "id": "ee0093f1-e6a2-4d9c-980f-69d719675610",
   "metadata": {},
   "outputs": [
    {
     "data": {
      "text/plain": [
       "4"
      ]
     },
     "execution_count": 38,
     "metadata": {},
     "output_type": "execute_result"
    }
   ],
   "source": [
    "arr2.itemsize #arr2 individual element take 4 bytes memory"
   ]
  },
  {
   "cell_type": "code",
   "execution_count": 39,
   "id": "c55ef4c4-246b-4b0d-b15d-31e04034fe24",
   "metadata": {},
   "outputs": [
    {
     "data": {
      "text/plain": [
       "array([10.        , 11.11111111, 12.22222222, 13.33333333, 14.44444444,\n",
       "       15.55555556, 16.66666667, 17.77777778, 18.88888889, 20.        ])"
      ]
     },
     "execution_count": 39,
     "metadata": {},
     "output_type": "execute_result"
    }
   ],
   "source": [
    "arr9 #display arr9"
   ]
  },
  {
   "cell_type": "code",
   "execution_count": 40,
   "id": "9c4ff456-4a18-4529-a0d2-092097c38e4a",
   "metadata": {},
   "outputs": [
    {
     "data": {
      "text/plain": [
       "8"
      ]
     },
     "execution_count": 40,
     "metadata": {},
     "output_type": "execute_result"
    }
   ],
   "source": [
    "arr9.itemsize #float takes 8 bytes"
   ]
  },
  {
   "cell_type": "markdown",
   "id": "029efe93-8754-4d3f-9c8a-c66f19e7daf2",
   "metadata": {},
   "source": [
    "<h1>dtype defines the datatype of array</h1>"
   ]
  },
  {
   "cell_type": "code",
   "execution_count": 41,
   "id": "3a57ee1e-84f3-4aa0-82d6-5dae2c4991c2",
   "metadata": {},
   "outputs": [
    {
     "data": {
      "text/plain": [
       "array([10.        , 11.11111111, 12.22222222, 13.33333333, 14.44444444,\n",
       "       15.55555556, 16.66666667, 17.77777778, 18.88888889, 20.        ])"
      ]
     },
     "execution_count": 41,
     "metadata": {},
     "output_type": "execute_result"
    }
   ],
   "source": [
    "arr8 #display arr8"
   ]
  },
  {
   "cell_type": "code",
   "execution_count": 42,
   "id": "d5769700-a4cc-4bcf-a739-d075c6b38002",
   "metadata": {},
   "outputs": [
    {
     "data": {
      "text/plain": [
       "dtype('float64')"
      ]
     },
     "execution_count": 42,
     "metadata": {},
     "output_type": "execute_result"
    }
   ],
   "source": [
    "arr8.dtype"
   ]
  },
  {
   "cell_type": "markdown",
   "id": "57d3337e-1e3f-4c03-94d0-1e41ecf5836e",
   "metadata": {},
   "source": [
    "<h1>It is used to change datatype of array</h1>"
   ]
  },
  {
   "cell_type": "code",
   "execution_count": 43,
   "id": "cba086b1-4c2b-4bec-8e9e-646dc7a3914e",
   "metadata": {},
   "outputs": [
    {
     "data": {
      "text/plain": [
       "array([[1, 2, 3],\n",
       "       [4, 5, 6]])"
      ]
     },
     "execution_count": 43,
     "metadata": {},
     "output_type": "execute_result"
    }
   ],
   "source": [
    "arr2 #display arr2"
   ]
  },
  {
   "cell_type": "code",
   "execution_count": 45,
   "id": "e52fc001-41ee-40dd-8812-4550346fa3c5",
   "metadata": {},
   "outputs": [
    {
     "data": {
      "text/plain": [
       "array([[1., 2., 3.],\n",
       "       [4., 5., 6.]])"
      ]
     },
     "execution_count": 45,
     "metadata": {},
     "output_type": "execute_result"
    }
   ],
   "source": [
    "arr2.astype('float')"
   ]
  }
 ],
 "metadata": {
  "kernelspec": {
   "display_name": "Python 3 (ipykernel)",
   "language": "python",
   "name": "python3"
  },
  "language_info": {
   "codemirror_mode": {
    "name": "ipython",
    "version": 3
   },
   "file_extension": ".py",
   "mimetype": "text/x-python",
   "name": "python",
   "nbconvert_exporter": "python",
   "pygments_lexer": "ipython3",
   "version": "3.12.4"
  }
 },
 "nbformat": 4,
 "nbformat_minor": 5
}
