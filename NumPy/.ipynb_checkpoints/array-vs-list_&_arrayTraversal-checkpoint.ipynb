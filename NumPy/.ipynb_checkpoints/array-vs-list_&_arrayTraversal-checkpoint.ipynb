{
 "cells": [
  {
   "cell_type": "markdown",
   "id": "68ffd876-1e2a-4d66-8e85-8053a2ec10b6",
   "metadata": {},
   "source": [
    "<h1 style=color:red>Comparison between list and array</h1>"
   ]
  },
  {
   "cell_type": "code",
   "execution_count": 1,
   "id": "38cb050f-9223-44c5-a2ad-ccdf631a4c72",
   "metadata": {},
   "outputs": [],
   "source": [
    "import numpy as np"
   ]
  },
  {
   "cell_type": "code",
   "execution_count": 2,
   "id": "50a7ee04-51ac-4154-8413-b4639c770dd6",
   "metadata": {},
   "outputs": [],
   "source": [
    "lista=range(100) #initializing python list\n",
    "arr1=np.arange(100) #initializing numpy array"
   ]
  },
  {
   "cell_type": "code",
   "execution_count": 3,
   "id": "978359e6-0807-41ec-8237-06f82374e51c",
   "metadata": {},
   "outputs": [
    {
     "data": {
      "text/plain": [
       "range(0, 100)"
      ]
     },
     "execution_count": 3,
     "metadata": {},
     "output_type": "execute_result"
    }
   ],
   "source": [
    "lista"
   ]
  },
  {
   "cell_type": "code",
   "execution_count": 4,
   "id": "a6192165-7b15-4bfa-a0f8-b8f02a4bca0d",
   "metadata": {},
   "outputs": [
    {
     "data": {
      "text/plain": [
       "array([ 0,  1,  2,  3,  4,  5,  6,  7,  8,  9, 10, 11, 12, 13, 14, 15, 16,\n",
       "       17, 18, 19, 20, 21, 22, 23, 24, 25, 26, 27, 28, 29, 30, 31, 32, 33,\n",
       "       34, 35, 36, 37, 38, 39, 40, 41, 42, 43, 44, 45, 46, 47, 48, 49, 50,\n",
       "       51, 52, 53, 54, 55, 56, 57, 58, 59, 60, 61, 62, 63, 64, 65, 66, 67,\n",
       "       68, 69, 70, 71, 72, 73, 74, 75, 76, 77, 78, 79, 80, 81, 82, 83, 84,\n",
       "       85, 86, 87, 88, 89, 90, 91, 92, 93, 94, 95, 96, 97, 98, 99])"
      ]
     },
     "execution_count": 4,
     "metadata": {},
     "output_type": "execute_result"
    }
   ],
   "source": [
    "arr1"
   ]
  },
  {
   "cell_type": "markdown",
   "id": "1ec5439d-3f09-474f-a231-8aecf6a499b1",
   "metadata": {},
   "source": [
    "<h1>To get the size of list and array</h1>"
   ]
  },
  {
   "cell_type": "code",
   "execution_count": 5,
   "id": "cb2fa63c-a3f7-4f22-ae4b-7445a1b6170c",
   "metadata": {},
   "outputs": [],
   "source": [
    "import sys"
   ]
  },
  {
   "cell_type": "code",
   "execution_count": 6,
   "id": "c3b5aed1-cd14-4634-9fbc-6a92dcbc1e5a",
   "metadata": {},
   "outputs": [
    {
     "name": "stdout",
     "output_type": "stream",
     "text": [
      "2800\n"
     ]
    }
   ],
   "source": [
    "print(sys.getsizeof(87)*len(lista)) #total size taken by lista"
   ]
  },
  {
   "cell_type": "code",
   "execution_count": 7,
   "id": "64b12c68-82ce-472f-97b1-894f7006100f",
   "metadata": {},
   "outputs": [
    {
     "name": "stdout",
     "output_type": "stream",
     "text": [
      "400\n"
     ]
    }
   ],
   "source": [
    "print(arr1.itemsize*arr1.size) #total size taken by arr1"
   ]
  },
  {
   "cell_type": "markdown",
   "id": "c953e792-731e-4ec9-ad4c-3b5cfb43e22d",
   "metadata": {},
   "source": [
    "<h1>To calculate the time taken by list and array</h1>"
   ]
  },
  {
   "cell_type": "code",
   "execution_count": 8,
   "id": "8ca4c8a8-0a71-43b3-aa19-fe4bc23d06c6",
   "metadata": {},
   "outputs": [],
   "source": [
    "import time"
   ]
  },
  {
   "cell_type": "code",
   "execution_count": 9,
   "id": "791a7932-0ffc-410d-bae7-b7666c3a7384",
   "metadata": {},
   "outputs": [
    {
     "name": "stdout",
     "output_type": "stream",
     "text": [
      "2.226153612136841\n"
     ]
    }
   ],
   "source": [
    "# Create two ranges of numbers\n",
    "x = range(10000000)\n",
    "y = range(10000000, 20000000)\n",
    "\n",
    "# Record the start time\n",
    "start_time = time.time()\n",
    "\n",
    "# Create a new list by adding corresponding elements from x and y\n",
    "c = [(a + b) for a, b in zip(x, y)]\n",
    "\n",
    "# Print the time taken to create the list\n",
    "print(time.time() - start_time)\n"
   ]
  },
  {
   "cell_type": "code",
   "execution_count": 10,
   "id": "5026e99b-121c-42eb-acd5-432b1347ff2f",
   "metadata": {},
   "outputs": [
    {
     "name": "stdout",
     "output_type": "stream",
     "text": [
      "0.23019075393676758\n"
     ]
    }
   ],
   "source": [
    "# Create two arrays using np.arange\n",
    "arrx = np.arange(10000000)\n",
    "arry = np.arange(10000000, 20000000)\n",
    "\n",
    "# Record the start time\n",
    "start_time = time.time()\n",
    "\n",
    "# Element-wise addition of two numpy arrays\n",
    "c = arrx + arry\n",
    "\n",
    "# Print the time taken to perform the addition\n",
    "print(time.time() - start_time)"
   ]
  },
  {
   "cell_type": "markdown",
   "id": "f6f95569-93e9-465a-8bcf-45912e17a62f",
   "metadata": {},
   "source": [
    "<h1 style=color:red>array traversal</h1>"
   ]
  },
  {
   "cell_type": "markdown",
   "id": "f16c37e9-9511-45c7-ac51-61423038fd0a",
   "metadata": {},
   "source": [
    "<h1>Reshaping</h1>"
   ]
  },
  {
   "cell_type": "code",
   "execution_count": 11,
   "id": "d35960f1-59a3-4ccf-a6ee-a657b18f577b",
   "metadata": {},
   "outputs": [
    {
     "data": {
      "text/plain": [
       "array([ 0,  1,  2,  3,  4,  5,  6,  7,  8,  9, 10, 11, 12, 13, 14, 15, 16,\n",
       "       17, 18, 19, 20, 21, 22, 23])"
      ]
     },
     "execution_count": 11,
     "metadata": {},
     "output_type": "execute_result"
    }
   ],
   "source": [
    "arr2=np.arange(24) #initializing array with 0 to 23 numbers\n",
    "arr2"
   ]
  },
  {
   "cell_type": "code",
   "execution_count": 12,
   "id": "3de6568c-50fe-4236-8965-00e2d115490a",
   "metadata": {},
   "outputs": [
    {
     "data": {
      "text/plain": [
       "array([[ 0,  1,  2,  3],\n",
       "       [ 4,  5,  6,  7],\n",
       "       [ 8,  9, 10, 11],\n",
       "       [12, 13, 14, 15],\n",
       "       [16, 17, 18, 19],\n",
       "       [20, 21, 22, 23]])"
      ]
     },
     "execution_count": 12,
     "metadata": {},
     "output_type": "execute_result"
    }
   ],
   "source": [
    "arr2=arr2.reshape(6,4)\n",
    "arr2"
   ]
  },
  {
   "cell_type": "markdown",
   "id": "3b96fd02-3216-4bfc-9849-6e912ac6bece",
   "metadata": {},
   "source": [
    "<h1>Indexing</h1>"
   ]
  },
  {
   "cell_type": "markdown",
   "id": "d90924ea-2d66-4d9a-85d8-c42bf9c1dd36",
   "metadata": {},
   "source": [
    "<h1>Indexing</h1>"
   ]
  },
  {
   "cell_type": "code",
   "execution_count": 13,
   "id": "2371bc2a-f609-4fea-8ab2-466583962723",
   "metadata": {},
   "outputs": [
    {
     "data": {
      "text/plain": [
       "array([[ 0,  1,  2,  3],\n",
       "       [ 4,  5,  6,  7],\n",
       "       [ 8,  9, 10, 11],\n",
       "       [12, 13, 14, 15],\n",
       "       [16, 17, 18, 19],\n",
       "       [20, 21, 22, 23]])"
      ]
     },
     "execution_count": 13,
     "metadata": {},
     "output_type": "execute_result"
    }
   ],
   "source": [
    "arr2 #printing arr2"
   ]
  },
  {
   "cell_type": "code",
   "execution_count": 14,
   "id": "e8163444-06a5-43ef-b6be-143c4b413eeb",
   "metadata": {},
   "outputs": [
    {
     "data": {
      "text/plain": [
       "array([ 8,  9, 10, 11])"
      ]
     },
     "execution_count": 14,
     "metadata": {},
     "output_type": "execute_result"
    }
   ],
   "source": [
    "arr2[2] #It will print the 2nd row [0,1,2,3,4,5]"
   ]
  },
  {
   "cell_type": "code",
   "execution_count": 15,
   "id": "a040428f-a2b9-40b7-8962-f9baeec83545",
   "metadata": {},
   "outputs": [
    {
     "data": {
      "text/plain": [
       "array([ 2,  6, 10, 14, 18, 22])"
      ]
     },
     "execution_count": 15,
     "metadata": {},
     "output_type": "execute_result"
    }
   ],
   "source": [
    "#arr[ a:b , c:d] --> a:b is for rows and c:d column seperated by comma\n",
    "arr2[ : ,2] #It will pring the 2nd column for all rows [0,1,2,3]"
   ]
  },
  {
   "cell_type": "code",
   "execution_count": 16,
   "id": "8e616c92-1a3e-4f6d-b3f1-97c1949e2e86",
   "metadata": {},
   "outputs": [
    {
     "data": {
      "text/plain": [
       "array([[13, 14],\n",
       "       [17, 18]])"
      ]
     },
     "execution_count": 16,
     "metadata": {},
     "output_type": "execute_result"
    }
   ],
   "source": [
    "arr2[3:5 , 1:3] #extrancting 31, 32 , 41, 42"
   ]
  },
  {
   "cell_type": "markdown",
   "id": "632b3a93-c79e-438a-b0a8-a3d79fdf8e33",
   "metadata": {},
   "source": [
    "<h2>Conditional Indexing</h2>"
   ]
  },
  {
   "cell_type": "code",
   "execution_count": 17,
   "id": "b4f280cf-0cc9-4b58-98ae-5c60f47e05bc",
   "metadata": {},
   "outputs": [
    {
     "data": {
      "text/plain": [
       "array([[ 0,  1,  2,  3],\n",
       "       [ 4,  5,  6,  7],\n",
       "       [ 8,  9, 10, 11],\n",
       "       [12, 13, 14, 15],\n",
       "       [16, 17, 18, 19],\n",
       "       [20, 21, 22, 23]])"
      ]
     },
     "execution_count": 17,
     "metadata": {},
     "output_type": "execute_result"
    }
   ],
   "source": [
    "arr2 #printing arr2"
   ]
  },
  {
   "cell_type": "code",
   "execution_count": 26,
   "id": "bb71b43e-bcf8-4d4a-b11a-510af35525c7",
   "metadata": {},
   "outputs": [
    {
     "data": {
      "text/plain": [
       "array([11, 12, 13, 14, 15, 16, 17, 18, 19, 20, 21, 22, 23])"
      ]
     },
     "execution_count": 26,
     "metadata": {},
     "output_type": "execute_result"
    }
   ],
   "source": [
    "arr2[arr2>10] #condition: arr2>10"
   ]
  },
  {
   "cell_type": "code",
   "execution_count": 27,
   "id": "fbf277af-e0a8-4058-b17c-be1e0c578a37",
   "metadata": {},
   "outputs": [
    {
     "data": {
      "text/plain": [
       "array([12, 14, 16, 18, 20, 22])"
      ]
     },
     "execution_count": 27,
     "metadata": {},
     "output_type": "execute_result"
    }
   ],
   "source": [
    "arr2[(arr2>10) & (arr2%2==0)] #condition: elements>10 and elements are odd"
   ]
  },
  {
   "cell_type": "code",
   "execution_count": 30,
   "id": "1a6dfad8-87eb-46ab-a6c6-946d6fb5ff5b",
   "metadata": {},
   "outputs": [
    {
     "data": {
      "text/plain": [
       "array([[ 0,  1,  2,  3],\n",
       "       [ 4,  5,  6,  7],\n",
       "       [ 8,  9, 10, 11],\n",
       "       [ 0, 13,  0, 15],\n",
       "       [ 0, 17,  0, 19],\n",
       "       [ 0, 21,  0, 23]])"
      ]
     },
     "execution_count": 30,
     "metadata": {},
     "output_type": "execute_result"
    }
   ],
   "source": [
    "arr2[(arr2>10) & (arr2%2==0)]=0 #changing elements to 0 whose values are odd and greater than 10\n",
    "arr2"
   ]
  },
  {
   "cell_type": "markdown",
   "id": "e25f0fa7-aeb1-46d5-b234-e90097d51338",
   "metadata": {},
   "source": [
    "<h1>Iteration</h1>"
   ]
  },
  {
   "cell_type": "code",
   "execution_count": null,
   "id": "aa32b421-cb8d-4bda-a066-dcdb306029f8",
   "metadata": {},
   "outputs": [],
   "source": [
    "for i in arr2: # print every row of arr2\n",
    "    print(i)"
   ]
  },
  {
   "cell_type": "code",
   "execution_count": null,
   "id": "7993b894-3038-4bb2-8e9a-fbbd3aa229c6",
   "metadata": {},
   "outputs": [],
   "source": [
    "for i in np.nditer(arr2): # print every element of arr2\n",
    "    print(i)"
   ]
  }
 ],
 "metadata": {
  "kernelspec": {
   "display_name": "Python 3 (ipykernel)",
   "language": "python",
   "name": "python3"
  },
  "language_info": {
   "codemirror_mode": {
    "name": "ipython",
    "version": 3
   },
   "file_extension": ".py",
   "mimetype": "text/x-python",
   "name": "python",
   "nbconvert_exporter": "python",
   "pygments_lexer": "ipython3",
   "version": "3.12.4"
  }
 },
 "nbformat": 4,
 "nbformat_minor": 5
}
