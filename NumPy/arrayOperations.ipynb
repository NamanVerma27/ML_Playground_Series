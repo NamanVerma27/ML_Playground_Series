{
 "cells": [
  {
   "cell_type": "code",
   "execution_count": 1,
   "id": "ee40358a-ec21-4e1e-9ea4-93095ec20929",
   "metadata": {},
   "outputs": [],
   "source": [
    "import numpy as np"
   ]
  },
  {
   "cell_type": "code",
   "execution_count": 2,
   "id": "67d4406c-ec96-4081-8e70-e560547c8c03",
   "metadata": {},
   "outputs": [],
   "source": [
    "arr1=np.array([1,2,3,4,5,6])\n",
    "arr2=np.array([4,5,6,7,8,9])"
   ]
  },
  {
   "cell_type": "markdown",
   "id": "dea8339a-da79-47c3-b74e-6ee39ac199c8",
   "metadata": {},
   "source": [
    "<h1 style=color:red>Urinary Operations</h1>"
   ]
  },
  {
   "cell_type": "markdown",
   "id": "9bef3755-4e0a-4350-ac42-072888aaa131",
   "metadata": {},
   "source": [
    "<h2>Subtraction</h2>"
   ]
  },
  {
   "cell_type": "code",
   "execution_count": 3,
   "id": "f62210cf-1795-4ac3-ae7b-0df0c307360c",
   "metadata": {},
   "outputs": [
    {
     "data": {
      "text/plain": [
       "array([-3, -3, -3, -3, -3, -3])"
      ]
     },
     "execution_count": 3,
     "metadata": {},
     "output_type": "execute_result"
    }
   ],
   "source": [
    "arr1-arr2"
   ]
  },
  {
   "cell_type": "markdown",
   "id": "c09d796a-c158-4108-9e4c-9571eb52f56e",
   "metadata": {},
   "source": [
    "<h2>Array Multiplication</h2>"
   ]
  },
  {
   "cell_type": "code",
   "execution_count": 4,
   "id": "8579c3e0-cf04-4b06-84b4-d872236f60c9",
   "metadata": {},
   "outputs": [
    {
     "data": {
      "text/plain": [
       "array([ 4, 10, 18, 28, 40, 54])"
      ]
     },
     "execution_count": 4,
     "metadata": {},
     "output_type": "execute_result"
    }
   ],
   "source": [
    "arr1*arr2"
   ]
  },
  {
   "cell_type": "markdown",
   "id": "ab9e6a84-3760-45e1-9796-0b15b9152bd0",
   "metadata": {},
   "source": [
    "<h2>Scaler Multiplication</h2>"
   ]
  },
  {
   "cell_type": "code",
   "execution_count": 5,
   "id": "bcc4850d-fcc0-49a9-a1ca-d33a9e118990",
   "metadata": {},
   "outputs": [
    {
     "data": {
      "text/plain": [
       "array([ 2,  4,  6,  8, 10, 12])"
      ]
     },
     "execution_count": 5,
     "metadata": {},
     "output_type": "execute_result"
    }
   ],
   "source": [
    "arr1*2"
   ]
  },
  {
   "cell_type": "markdown",
   "id": "50fb30d0-3453-4e03-b448-fc08b17a3f7a",
   "metadata": {},
   "source": [
    "<h2>Comparison</h2>"
   ]
  },
  {
   "cell_type": "code",
   "execution_count": 6,
   "id": "78655ce7-0e2f-441a-9a60-301aee7d210c",
   "metadata": {},
   "outputs": [
    {
     "data": {
      "text/plain": [
       "array([ True,  True,  True,  True,  True,  True])"
      ]
     },
     "execution_count": 6,
     "metadata": {},
     "output_type": "execute_result"
    }
   ],
   "source": [
    "arr2>3"
   ]
  },
  {
   "cell_type": "markdown",
   "id": "26949721-9a96-4e8e-b68d-a521a4ce0c89",
   "metadata": {},
   "source": [
    "<h2>Dot product</h2>"
   ]
  },
  {
   "cell_type": "code",
   "execution_count": 7,
   "id": "3b49eba2-e42c-43f3-a927-0812e171d285",
   "metadata": {},
   "outputs": [],
   "source": [
    "arr3=np.arange(6).reshape(2,3)\n",
    "arr4=np.arange(6,12).reshape(3,2)"
   ]
  },
  {
   "cell_type": "code",
   "execution_count": 8,
   "id": "ec26988e-f486-412f-ab57-23332225c535",
   "metadata": {},
   "outputs": [
    {
     "data": {
      "text/plain": [
       "array([[ 28,  31],\n",
       "       [100, 112]])"
      ]
     },
     "execution_count": 8,
     "metadata": {},
     "output_type": "execute_result"
    }
   ],
   "source": [
    "arr3.dot(arr4)"
   ]
  },
  {
   "cell_type": "markdown",
   "id": "8a2ebdbf-8d83-474f-a4d8-a408be7a877f",
   "metadata": {},
   "source": [
    "<h2>find maximum and minimum elements in array</h2>"
   ]
  },
  {
   "cell_type": "code",
   "execution_count": 9,
   "id": "65059331-98d0-43d0-b155-4e2903788b95",
   "metadata": {},
   "outputs": [
    {
     "data": {
      "text/plain": [
       "11"
      ]
     },
     "execution_count": 9,
     "metadata": {},
     "output_type": "execute_result"
    }
   ],
   "source": [
    "arr4.max() #find maximum element"
   ]
  },
  {
   "cell_type": "code",
   "execution_count": 10,
   "id": "f94f512b-2dc4-4f5b-ae4b-02d0ddcebd21",
   "metadata": {},
   "outputs": [
    {
     "data": {
      "text/plain": [
       "6"
      ]
     },
     "execution_count": 10,
     "metadata": {},
     "output_type": "execute_result"
    }
   ],
   "source": [
    "arr4.min() #find minimum element"
   ]
  },
  {
   "cell_type": "code",
   "execution_count": 11,
   "id": "0c2e71c5-0f78-4b05-959f-48d222389e35",
   "metadata": {},
   "outputs": [
    {
     "data": {
      "text/plain": [
       "array([6, 7])"
      ]
     },
     "execution_count": 11,
     "metadata": {},
     "output_type": "execute_result"
    }
   ],
   "source": [
    "arr4.min(axis=0) #find minimum element columnwise"
   ]
  },
  {
   "cell_type": "code",
   "execution_count": 12,
   "id": "e5426f6c-991f-4f6f-a723-1aee8edee820",
   "metadata": {},
   "outputs": [
    {
     "data": {
      "text/plain": [
       "array([ 6,  8, 10])"
      ]
     },
     "execution_count": 12,
     "metadata": {},
     "output_type": "execute_result"
    }
   ],
   "source": [
    "arr4.min(axis=1) #find minimum element rowwise"
   ]
  },
  {
   "cell_type": "markdown",
   "id": "5863200a-8f36-437a-950b-9e7c8b5c59fd",
   "metadata": {},
   "source": [
    "<h2>Calculate sum</h2>"
   ]
  },
  {
   "cell_type": "code",
   "execution_count": 13,
   "id": "bed68de0-6f05-4c34-a9f7-0651ebbbc18c",
   "metadata": {},
   "outputs": [
    {
     "data": {
      "text/plain": [
       "array([24, 27])"
      ]
     },
     "execution_count": 13,
     "metadata": {},
     "output_type": "execute_result"
    }
   ],
   "source": [
    "arr4.sum(axis=0) #find sum columnwise"
   ]
  },
  {
   "cell_type": "markdown",
   "id": "605b61d4-c2b9-450a-aa49-5b94bb8aa190",
   "metadata": {},
   "source": [
    "<h2>Calculate mean</h2>"
   ]
  },
  {
   "cell_type": "code",
   "execution_count": 14,
   "id": "4bc79c99-de5f-4e1c-b70e-d68ecd492c10",
   "metadata": {},
   "outputs": [
    {
     "data": {
      "text/plain": [
       "8.5"
      ]
     },
     "execution_count": 14,
     "metadata": {},
     "output_type": "execute_result"
    }
   ],
   "source": [
    "arr4.mean()"
   ]
  },
  {
   "cell_type": "markdown",
   "id": "57bd0951-4434-45bc-b113-1c97ec2d3758",
   "metadata": {},
   "source": [
    "<h2>Calculate median</h2>"
   ]
  },
  {
   "cell_type": "code",
   "execution_count": 15,
   "id": "a33c4182-41b4-4046-8f3c-6d2cadbfa0dd",
   "metadata": {},
   "outputs": [
    {
     "data": {
      "text/plain": [
       "8.5"
      ]
     },
     "execution_count": 15,
     "metadata": {},
     "output_type": "execute_result"
    }
   ],
   "source": [
    "np.median(arr4)"
   ]
  },
  {
   "cell_type": "markdown",
   "id": "85895c08-5fed-4af7-a42d-2348f6735710",
   "metadata": {},
   "source": [
    "<h2>Calculate standard deviation</h2>"
   ]
  },
  {
   "cell_type": "code",
   "execution_count": 16,
   "id": "15abe48b-7871-498f-b506-bf2a87d58adf",
   "metadata": {},
   "outputs": [
    {
     "data": {
      "text/plain": [
       "1.707825127659933"
      ]
     },
     "execution_count": 16,
     "metadata": {},
     "output_type": "execute_result"
    }
   ],
   "source": [
    "arr4.std()"
   ]
  },
  {
   "cell_type": "markdown",
   "id": "6b4bf2ec-270f-4d7e-b452-24def3afe855",
   "metadata": {},
   "source": [
    "<h2>Trigonometric functions</h2>"
   ]
  },
  {
   "cell_type": "code",
   "execution_count": 17,
   "id": "3c6be22f-fbcb-4653-b621-2540c567eccf",
   "metadata": {},
   "outputs": [
    {
     "data": {
      "text/plain": [
       "array([[-0.2794155 ,  0.6569866 ],\n",
       "       [ 0.98935825,  0.41211849],\n",
       "       [-0.54402111, -0.99999021]])"
      ]
     },
     "execution_count": 17,
     "metadata": {},
     "output_type": "execute_result"
    }
   ],
   "source": [
    "np.sin(arr4)"
   ]
  },
  {
   "cell_type": "markdown",
   "id": "f534ea5b-f901-4612-aeee-a5e10b3704bb",
   "metadata": {},
   "source": [
    "<h2>Calculate exponential</h2>"
   ]
  },
  {
   "cell_type": "code",
   "execution_count": 18,
   "id": "354a35bc-9639-4124-924d-5fb024bd7896",
   "metadata": {},
   "outputs": [
    {
     "data": {
      "text/plain": [
       "array([[  403.42879349,  1096.63315843],\n",
       "       [ 2980.95798704,  8103.08392758],\n",
       "       [22026.46579481, 59874.1417152 ]])"
      ]
     },
     "execution_count": 18,
     "metadata": {},
     "output_type": "execute_result"
    }
   ],
   "source": [
    "np.exp(arr4)"
   ]
  },
  {
   "cell_type": "markdown",
   "id": "be10ead3-44ee-4308-a924-8e2617338d10",
   "metadata": {},
   "source": [
    "<h3>There are many more operation available in numpy</h3>"
   ]
  }
 ],
 "metadata": {
  "kernelspec": {
   "display_name": "Python 3 (ipykernel)",
   "language": "python",
   "name": "python3"
  },
  "language_info": {
   "codemirror_mode": {
    "name": "ipython",
    "version": 3
   },
   "file_extension": ".py",
   "mimetype": "text/x-python",
   "name": "python",
   "nbconvert_exporter": "python",
   "pygments_lexer": "ipython3",
   "version": "3.12.4"
  }
 },
 "nbformat": 4,
 "nbformat_minor": 5
}
